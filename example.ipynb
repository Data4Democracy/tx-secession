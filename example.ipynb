{
 "cells": [
  {
   "cell_type": "code",
   "execution_count": 1,
   "metadata": {},
   "outputs": [],
   "source": [
    "%matplotlib inline\n",
    "import matplotlib.pyplot as plt\n",
    "import pandas as pd"
   ]
  },
  {
   "cell_type": "code",
   "execution_count": 3,
   "metadata": {},
   "outputs": [
    {
     "name": "stderr",
     "output_type": "stream",
     "text": [
      "/Users/jonathonmorgan/Documents/D4D/tx-secession/venv/lib/python2.7/site-packages/IPython/core/interactiveshell.py:2718: DtypeWarning: Columns (0,17,18,19,20,23,31,36,40) have mixed types. Specify dtype option on import or set low_memory=False.\n",
      "  interactivity=interactivity, compiler=compiler, result=result)\n"
     ]
    }
   ],
   "source": [
    "df = pd.read_csv('data/tweets.csv')"
   ]
  },
  {
   "cell_type": "code",
   "execution_count": 4,
   "metadata": {},
   "outputs": [
    {
     "data": {
      "text/plain": [
       "Index([u'id_tweet', u'lang_tweet', u'favorited', u'user_id',\n",
       "       u'referenced_tweet_id', u'source', u'tweet_type', u'text',\n",
       "       u'user_screen_name', u'retweeted', u'tweet_id', u'retweet_count',\n",
       "       u'created_at_tweet', u'favorite_count', u'longitude', u'latitude',\n",
       "       u'id_user', u'is_seed', u'profile_collected', u'has_historical',\n",
       "       u'friends_collected', u'followers_collected', u'is_suspended',\n",
       "       u'tweets_collected', u'updated_at', u'time_zone', u'description',\n",
       "       u'profile_sidebar_fill_color', u'profile_text_color',\n",
       "       u'followers_count', u'location', u'default_profile_image',\n",
       "       u'listed_count', u'utc_offset', u'statuses_count',\n",
       "       u'profile_background_color', u'friends_count', u'profile_link_color',\n",
       "       u'profile_image_url', u'verified', u'geo_enabled',\n",
       "       u'profile_banner_url', u'profile_background_image_url', u'screen_name',\n",
       "       u'lang_user', u'profile_background_tile', u'favourites_count', u'name',\n",
       "       u'url', u'created_at_user', u'contributors_enabled', u'protected',\n",
       "       u'default_profile'],\n",
       "      dtype='object')"
      ]
     },
     "execution_count": 4,
     "metadata": {},
     "output_type": "execute_result"
    }
   ],
   "source": [
    "df.columns"
   ]
  },
  {
   "cell_type": "code",
   "execution_count": 5,
   "metadata": {},
   "outputs": [],
   "source": [
    "# First convert datetime strings to datetime objects\n",
    "df['created_at_tweet_dt'] = pd.to_datetime(df['created_at_tweet'],errors='coerce')"
   ]
  },
  {
   "cell_type": "code",
   "execution_count": 6,
   "metadata": {},
   "outputs": [],
   "source": [
    "# Set that Series of datetime objects as your index\n",
    "df_idx = df.set_index(pd.DatetimeIndex(df['created_at_tweet_dt']))"
   ]
  },
  {
   "cell_type": "code",
   "execution_count": 7,
   "metadata": {},
   "outputs": [],
   "source": [
    "# Group by day\n",
    "grouper = pd.TimeGrouper(freq='D')\n",
    "grouped = df_idx.groupby(grouper)\n",
    "df_grouped_by_date = grouped.size().reset_index()"
   ]
  },
  {
   "cell_type": "code",
   "execution_count": 8,
   "metadata": {},
   "outputs": [],
   "source": [
    "# Name the columns something easier to read\n",
    "df_grouped_by_date.columns = ['date','count']"
   ]
  },
  {
   "cell_type": "code",
   "execution_count": 9,
   "metadata": {},
   "outputs": [
    {
     "data": {
      "text/plain": [
       "<matplotlib.axes._subplots.AxesSubplot at 0x111f71f10>"
      ]
     },
     "execution_count": 9,
     "metadata": {},
     "output_type": "execute_result"
    },
    {
     "data": {
      "image/png": "[encoded data removed]",
      "text/plain": [
       "<matplotlib.figure.Figure at 0x111f71910>"
      ]
     },
     "metadata": {},
     "output_type": "display_data"
    }
   ],
   "source": [
    "# See what it looks like\n",
    "df_grouped_by_date.plot()"
   ]
  },
  {
   "cell_type": "code",
   "execution_count": null,
   "metadata": {},
   "outputs": [],
   "source": []
  }
 ],
 "metadata": {
  "kernelspec": {
   "display_name": "Python 2",
   "language": "python",
   "name": "python2"
  },
  "language_info": {
   "codemirror_mode": {
    "name": "ipython",
    "version": 2
   },
   "file_extension": ".py",
   "mimetype": "text/x-python",
   "name": "python",
   "nbconvert_exporter": "python",
   "pygments_lexer": "ipython2",
   "version": "2.7.10"
  }
 },
 "nbformat": 4,
 "nbformat_minor": 2
}
